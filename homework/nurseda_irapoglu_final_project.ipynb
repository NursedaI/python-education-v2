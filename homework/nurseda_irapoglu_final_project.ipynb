{
 "cells": [
  {
   "cell_type": "code",
   "execution_count": 50,
   "metadata": {},
   "outputs": [],
   "source": [
    "#final_project\n",
    "\n",
    "class Employees():\n",
    "    pass\n",
    "    def __init__(self,name,  age, language):\n",
    "        self.name=name\n",
    "        self.age=age\n",
    "        self.language=language\n",
    "        \n",
    "    def printName(self):\n",
    "        print(self.name)\n",
    "        \n",
    "    def printAge(self):\n",
    "        print(self.age)\n",
    "       \n",
    "    def printLanguage(self):\n",
    "        print(self.name + \" can speak: \")\n",
    "        for i in self.language:\n",
    "              print(i)"
   ]
  },
  {
   "cell_type": "code",
   "execution_count": 51,
   "metadata": {},
   "outputs": [
    {
     "name": "stdout",
     "output_type": "stream",
     "text": [
      "Ali Aksoy\n",
      "35\n",
      "Ali Aksoy can speak: \n",
      "Turkish\n",
      "French\n",
      "English\n"
     ]
    }
   ],
   "source": [
    "class Manager(Employees):\n",
    "    pass\n",
    "MEmployee = Manager(\"Ali Aksoy\", 35, [\"Turkish\",\"French\", \"English\"])\n",
    "\n",
    "MEmployee.printName()\n",
    "MEmployee.printAge()\n",
    "MEmployee.printLanguage()"
   ]
  },
  {
   "cell_type": "code",
   "execution_count": 52,
   "metadata": {},
   "outputs": [
    {
     "name": "stdout",
     "output_type": "stream",
     "text": [
      "Ayşe Güzel\n",
      "28\n",
      "Ayşe Güzel can speak: \n",
      "Turkish \n",
      "English \n",
      "Nurseda Irapoğlu can speak: \n",
      "Turkish\n",
      "English\n"
     ]
    }
   ],
   "source": [
    "Emp1 = Employees(\"Ayşe Güzel\", 28, [\"Turkish \",\"English \"])\n",
    "\n",
    "Emp1.printName()\n",
    "Emp1.printAge()\n",
    "Emp1.printLanguage()\n",
    "\n",
    "Emp2=Employees(\"Nurseda Irapoğlu\", 24, [\"Turkish\",\"English\"])\n",
    "Emp2.printLanguage()"
   ]
  }
 ],
 "metadata": {
  "kernelspec": {
   "display_name": "Python 3",
   "language": "python",
   "name": "python3"
  },
  "language_info": {
   "codemirror_mode": {
    "name": "ipython",
    "version": 3
   },
   "file_extension": ".py",
   "mimetype": "text/x-python",
   "name": "python",
   "nbconvert_exporter": "python",
   "pygments_lexer": "ipython3",
   "version": "3.6.5"
  }
 },
 "nbformat": 4,
 "nbformat_minor": 2
}
