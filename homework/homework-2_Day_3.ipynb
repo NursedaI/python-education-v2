{
 "cells": [
  {
   "cell_type": "code",
   "execution_count": 3,
   "metadata": {},
   "outputs": [
    {
     "name": "stdout",
     "output_type": "stream",
     "text": [
      "Please enter your name: Nurseda\n",
      "please enter password: thisisapassword\n",
      "Correct name and password!\n"
     ]
    }
   ],
   "source": [
    "#homework-2_Day_3\n",
    "\n",
    "user_name=\"Nurseda\"\n",
    "password=\"thisisapassword\"\n",
    "\n",
    "user_name1=(input(\"Please enter your name: \"))\n",
    "password1=(input(\"please enter password: \"))\n",
    "\n",
    "if user_name!=user_name1 and password!=password1:\n",
    "    print (\"Uncorrect user name and password!\")\n",
    "elif user_name!=user_name1 and password==password1:\n",
    "    print(\"Uncorrect user name!\")\n",
    "elif user_name==user_name1 and password!=password1:\n",
    "    print(\"Uncorrect password!\")\n",
    "else:\n",
    "    print(\"Correct name and password!\")\n",
    "\n"
   ]
  },
  {
   "cell_type": "code",
   "execution_count": 11,
   "metadata": {},
   "outputs": [
    {
     "name": "stdout",
     "output_type": "stream",
     "text": [
      "{'user1': {'user_name': 'Nurseda', 'password': 'abc'}, 'user2': {'user_name': 'Ayşe', 'password': 'def'}}\n",
      "Please enter your name: Nurseda\n",
      "please enter password: abc\n",
      "user1 Uncorrect information !\n",
      "user2 Uncorrect information !\n"
     ]
    }
   ],
   "source": [
    "#homework-2_Day_3_Extra\n",
    "\n",
    "users={\n",
    "    \"user1\" :{\n",
    "        \"user_name\": \"Nurseda\",\n",
    "        \"password\":\"abc\"},\n",
    "    \"user2\" :{\n",
    "        \"user_name\" :\"Ayşe\",\n",
    "        \"password\" :'def'}\n",
    "}\n",
    "\n",
    "print (users)\n",
    "\n",
    "user_name1=(input(\"Please enter your name: \"))\n",
    "password1=(input(\"please enter password: \"))\n",
    "\n",
    "\n",
    "for i in users:\n",
    "    if user_name1==users.keys():\n",
    "        print (i, \"Correct user name !\")\n",
    "        if password1==users.values():\n",
    "            print (i, \"Correct pasword!\")        \n",
    "    else:\n",
    "        print(i,\"Uncorrect information !\")\n",
    "#ı can not able to use dictionary, sorry..."
   ]
  },
  {
   "cell_type": "code",
   "execution_count": null,
   "metadata": {},
   "outputs": [],
   "source": []
  }
 ],
 "metadata": {
  "kernelspec": {
   "display_name": "Python 3",
   "language": "python",
   "name": "python3"
  },
  "language_info": {
   "codemirror_mode": {
    "name": "ipython",
    "version": 3
   },
   "file_extension": ".py",
   "mimetype": "text/x-python",
   "name": "python",
   "nbconvert_exporter": "python",
   "pygments_lexer": "ipython3",
   "version": "3.6.5"
  }
 },
 "nbformat": 4,
 "nbformat_minor": 2
}
