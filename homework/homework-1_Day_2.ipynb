{
 "cells": [
  {
   "cell_type": "code",
   "execution_count": 5,
   "metadata": {},
   "outputs": [
    {
     "name": "stdout",
     "output_type": "stream",
     "text": [
      "['nurseda', 'ırapoglu', 24, 'turkey', 'python', 'GlobalAIHub']\n",
      "['turkey', 'python', 'GlobalAIHub', 'nurseda', 'ırapoglu', 24]\n"
     ]
    }
   ],
   "source": [
    "#homework1_Day_2_1\n",
    "\n",
    "the_list=[\"nurseda\", \"ırapoglu\", 24, \"turkey\", \"python\", \"GlobalAIHub\" ]\n",
    "\n",
    "print (the_list)\n",
    "\n",
    "print (the_list[3:len(the_list)] + the_list[:3])"
   ]
  },
  {
   "cell_type": "code",
   "execution_count": 6,
   "metadata": {},
   "outputs": [
    {
     "name": "stdout",
     "output_type": "stream",
     "text": [
      "Please enter a single digit integer: 9\n",
      "0\n",
      "2\n",
      "4\n",
      "6\n",
      "8\n"
     ]
    }
   ],
   "source": [
    "#homework1_Day_2_2\n",
    "n = int(input(\"Please enter a single digit integer: \"))\n",
    "\n",
    "numbers=range(n)\n",
    "for x in numbers:\n",
    "    if x%2==0:\n",
    "        print(x)"
   ]
  },
  {
   "cell_type": "code",
   "execution_count": null,
   "metadata": {},
   "outputs": [],
   "source": []
  }
 ],
 "metadata": {
  "kernelspec": {
   "display_name": "Python 3",
   "language": "python",
   "name": "python3"
  },
  "language_info": {
   "codemirror_mode": {
    "name": "ipython",
    "version": 3
   },
   "file_extension": ".py",
   "mimetype": "text/x-python",
   "name": "python",
   "nbconvert_exporter": "python",
   "pygments_lexer": "ipython3",
   "version": "3.6.5"
  }
 },
 "nbformat": 4,
 "nbformat_minor": 2
}
