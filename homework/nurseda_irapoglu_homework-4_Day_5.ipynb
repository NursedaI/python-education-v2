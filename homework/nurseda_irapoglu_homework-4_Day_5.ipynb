{
 "cells": [
  {
   "cell_type": "code",
   "execution_count": 22,
   "metadata": {},
   "outputs": [],
   "source": [
    "#homework-4_Day_5\n",
    "\n",
    "class Animals:\n",
    "    def __init__(self, name, age, genius ):\n",
    "        self.Name=name\n",
    "        self.Age=age\n",
    "        self.Genius=genius\n",
    "    \n",
    "    def printName(self):\n",
    "        print(self.Name + \" is a \" + self.Genius + \" and \" + str(self.Age) + \" years old. \")"
   ]
  },
  {
   "cell_type": "code",
   "execution_count": 23,
   "metadata": {},
   "outputs": [
    {
     "name": "stdout",
     "output_type": "stream",
     "text": [
      "Sirius is a Doberman and 4 years old. \n"
     ]
    }
   ],
   "source": [
    "class Dogs(Animals):\n",
    "    pass\n",
    "dog1 = Dogs(\"Sirius\", 4, \"Doberman\")\n",
    "\n",
    "dog1.printName()    "
   ]
  },
  {
   "cell_type": "code",
   "execution_count": 24,
   "metadata": {},
   "outputs": [
    {
     "name": "stdout",
     "output_type": "stream",
     "text": [
      "Nova is a Van cat and 1 years old. \n"
     ]
    }
   ],
   "source": [
    "class Cats(Animals):\n",
    "    pass\n",
    "cat1=Cats(\"Nova\", 1, \"Van cat\")\n",
    "cat1.printName()"
   ]
  }
 ],
 "metadata": {
  "kernelspec": {
   "display_name": "Python 3",
   "language": "python",
   "name": "python3"
  },
  "language_info": {
   "codemirror_mode": {
    "name": "ipython",
    "version": 3
   },
   "file_extension": ".py",
   "mimetype": "text/x-python",
   "name": "python",
   "nbconvert_exporter": "python",
   "pygments_lexer": "ipython3",
   "version": "3.6.5"
  }
 },
 "nbformat": 4,
 "nbformat_minor": 2
}
